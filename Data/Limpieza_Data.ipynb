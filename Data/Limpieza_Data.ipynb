{
 "cells": [
  {
   "cell_type": "code",
   "execution_count": 1,
   "metadata": {},
   "outputs": [],
   "source": [
    "import numpy as np\n",
    "import pandas as pd\n",
    "import matplotlib.pyplot as plt\n",
    "import seaborn as sns\n",
    "import pathlib"
   ]
  },
  {
   "cell_type": "code",
   "execution_count": 53,
   "metadata": {},
   "outputs": [
    {
     "name": "stderr",
     "output_type": "stream",
     "text": [
      "C:\\Users\\Userr\\AppData\\Local\\Temp\\ipykernel_10128\\2356530730.py:3: DtypeWarning: Columns (5,12) have mixed types. Specify dtype option on import or set low_memory=False.\n",
      "  Data = pd.read_csv(f\"{RUTA}/data/Data.csv\", encoding='latin1', sep=',', on_bad_lines='skip')\n"
     ]
    },
    {
     "data": {
      "text/plain": [
       "(585927, 13)"
      ]
     },
     "execution_count": 53,
     "metadata": {},
     "output_type": "execute_result"
    }
   ],
   "source": [
    "RUTA = pathlib.Path(__vsc_ipynb_file__).parent.parent # type: ignore\n",
    "\n",
    "Data = pd.read_csv(f\"{RUTA}/data/Data.csv\", encoding='latin1', sep=',', on_bad_lines='skip')\n",
    "Data.shape"
   ]
  },
  {
   "cell_type": "code",
   "execution_count": 54,
   "metadata": {},
   "outputs": [
    {
     "data": {
      "text/html": [
       "<div>\n",
       "<style scoped>\n",
       "    .dataframe tbody tr th:only-of-type {\n",
       "        vertical-align: middle;\n",
       "    }\n",
       "\n",
       "    .dataframe tbody tr th {\n",
       "        vertical-align: top;\n",
       "    }\n",
       "\n",
       "    .dataframe thead th {\n",
       "        text-align: right;\n",
       "    }\n",
       "</style>\n",
       "<table border=\"1\" class=\"dataframe\">\n",
       "  <thead>\n",
       "    <tr style=\"text-align: right;\">\n",
       "      <th></th>\n",
       "      <th>fecha_transaccion</th>\n",
       "      <th>periodo</th>\n",
       "      <th>id_transaccion</th>\n",
       "      <th>id_sucursal</th>\n",
       "      <th>linea_dispensacion</th>\n",
       "      <th>id_paciente</th>\n",
       "      <th>id_pactprdo</th>\n",
       "      <th>skuagr_2</th>\n",
       "      <th>cantidad_dispensada</th>\n",
       "      <th>costcomp_unit</th>\n",
       "      <th>valorventa_unit_sl</th>\n",
       "      <th>first_spend</th>\n",
       "      <th>id_factura</th>\n",
       "    </tr>\n",
       "  </thead>\n",
       "  <tbody>\n",
       "    <tr>\n",
       "      <th>0</th>\n",
       "      <td>2024-02-01</td>\n",
       "      <td>202402</td>\n",
       "      <td>281819_281819_1010</td>\n",
       "      <td>1010</td>\n",
       "      <td>CAPITA</td>\n",
       "      <td>1002023082</td>\n",
       "      <td>1002023082_202402</td>\n",
       "      <td>61073475G5</td>\n",
       "      <td>60.0</td>\n",
       "      <td>32.384</td>\n",
       "      <td>40.000000</td>\n",
       "      <td>CONCURRENT                                    ...</td>\n",
       "      <td>0</td>\n",
       "    </tr>\n",
       "    <tr>\n",
       "      <th>1</th>\n",
       "      <td>2024-04-26</td>\n",
       "      <td>202404</td>\n",
       "      <td>633315_633315_1017</td>\n",
       "      <td>1017</td>\n",
       "      <td>CAPITA</td>\n",
       "      <td>72158665</td>\n",
       "      <td>72158665_202404</td>\n",
       "      <td>16136775G5</td>\n",
       "      <td>30.0</td>\n",
       "      <td>39.468</td>\n",
       "      <td>55.384615</td>\n",
       "      <td>CONCURRENT                                    ...</td>\n",
       "      <td>0</td>\n",
       "    </tr>\n",
       "    <tr>\n",
       "      <th>2</th>\n",
       "      <td>2024-02-28</td>\n",
       "      <td>202402</td>\n",
       "      <td>286272_286272_1010</td>\n",
       "      <td>1010</td>\n",
       "      <td>CAPITA</td>\n",
       "      <td>23183093</td>\n",
       "      <td>23183093_202402</td>\n",
       "      <td>35724945G5</td>\n",
       "      <td>2.0</td>\n",
       "      <td>4169.440</td>\n",
       "      <td>5340.000000</td>\n",
       "      <td>CONCURRENT                                    ...</td>\n",
       "      <td>0</td>\n",
       "    </tr>\n",
       "    <tr>\n",
       "      <th>3</th>\n",
       "      <td>2024-01-05</td>\n",
       "      <td>202401</td>\n",
       "      <td>251437_251437_1012</td>\n",
       "      <td>1012</td>\n",
       "      <td>CAPITA</td>\n",
       "      <td>1043586626</td>\n",
       "      <td>1043586626_202401</td>\n",
       "      <td>13854875G5</td>\n",
       "      <td>6.0</td>\n",
       "      <td>217.580</td>\n",
       "      <td>335.384615</td>\n",
       "      <td>FIRST SPEND                                   ...</td>\n",
       "      <td>0</td>\n",
       "    </tr>\n",
       "    <tr>\n",
       "      <th>4</th>\n",
       "      <td>2024-01-17</td>\n",
       "      <td>202401</td>\n",
       "      <td>253375_253375_1012</td>\n",
       "      <td>1012</td>\n",
       "      <td>CAPITA</td>\n",
       "      <td>72073242</td>\n",
       "      <td>72073242_202401</td>\n",
       "      <td>13854875G5</td>\n",
       "      <td>4.0</td>\n",
       "      <td>217.580</td>\n",
       "      <td>335.384615</td>\n",
       "      <td>CONCURRENT                                    ...</td>\n",
       "      <td>0</td>\n",
       "    </tr>\n",
       "  </tbody>\n",
       "</table>\n",
       "</div>"
      ],
      "text/plain": [
       "  fecha_transaccion  periodo      id_transaccion  id_sucursal  \\\n",
       "0        2024-02-01   202402  281819_281819_1010         1010   \n",
       "1        2024-04-26   202404  633315_633315_1017         1017   \n",
       "2        2024-02-28   202402  286272_286272_1010         1010   \n",
       "3        2024-01-05   202401  251437_251437_1012         1012   \n",
       "4        2024-01-17   202401  253375_253375_1012         1012   \n",
       "\n",
       "  linea_dispensacion id_paciente        id_pactprdo    skuagr_2  \\\n",
       "0             CAPITA  1002023082  1002023082_202402  61073475G5   \n",
       "1             CAPITA    72158665    72158665_202404  16136775G5   \n",
       "2             CAPITA    23183093    23183093_202402  35724945G5   \n",
       "3             CAPITA  1043586626  1043586626_202401  13854875G5   \n",
       "4             CAPITA    72073242    72073242_202401  13854875G5   \n",
       "\n",
       "   cantidad_dispensada  costcomp_unit  valorventa_unit_sl  \\\n",
       "0                 60.0         32.384           40.000000   \n",
       "1                 30.0         39.468           55.384615   \n",
       "2                  2.0       4169.440         5340.000000   \n",
       "3                  6.0        217.580          335.384615   \n",
       "4                  4.0        217.580          335.384615   \n",
       "\n",
       "                                         first_spend id_factura  \n",
       "0  CONCURRENT                                    ...          0  \n",
       "1  CONCURRENT                                    ...          0  \n",
       "2  CONCURRENT                                    ...          0  \n",
       "3  FIRST SPEND                                   ...          0  \n",
       "4  CONCURRENT                                    ...          0  "
      ]
     },
     "execution_count": 54,
     "metadata": {},
     "output_type": "execute_result"
    }
   ],
   "source": [
    "Data.head(5)"
   ]
  },
  {
   "cell_type": "code",
   "execution_count": 55,
   "metadata": {},
   "outputs": [
    {
     "name": "stdout",
     "output_type": "stream",
     "text": [
      "<class 'pandas.core.frame.DataFrame'>\n",
      "RangeIndex: 585927 entries, 0 to 585926\n",
      "Data columns (total 13 columns):\n",
      " #   Column               Non-Null Count   Dtype  \n",
      "---  ------               --------------   -----  \n",
      " 0   fecha_transaccion    585927 non-null  object \n",
      " 1   periodo              585927 non-null  int64  \n",
      " 2   id_transaccion       585927 non-null  object \n",
      " 3   id_sucursal          585927 non-null  int64  \n",
      " 4   linea_dispensacion   585927 non-null  object \n",
      " 5   id_paciente          585927 non-null  object \n",
      " 6   id_pactprdo          585927 non-null  object \n",
      " 7   skuagr_2             585120 non-null  object \n",
      " 8   cantidad_dispensada  585127 non-null  float64\n",
      " 9   costcomp_unit        585127 non-null  float64\n",
      " 10  valorventa_unit_sl   585127 non-null  float64\n",
      " 11  first_spend          585927 non-null  object \n",
      " 12  id_factura           585926 non-null  object \n",
      "dtypes: float64(3), int64(2), object(8)\n",
      "memory usage: 58.1+ MB\n"
     ]
    }
   ],
   "source": [
    "Data.info()"
   ]
  },
  {
   "cell_type": "code",
   "execution_count": 56,
   "metadata": {},
   "outputs": [
    {
     "name": "stdout",
     "output_type": "stream",
     "text": [
      "Valores nulos por columna:\n",
      "fecha_transaccion        0\n",
      "periodo                  0\n",
      "id_transaccion           0\n",
      "id_sucursal              0\n",
      "linea_dispensacion       0\n",
      "id_paciente              0\n",
      "id_pactprdo              0\n",
      "skuagr_2               807\n",
      "cantidad_dispensada    800\n",
      "costcomp_unit          800\n",
      "valorventa_unit_sl     800\n",
      "first_spend              0\n",
      "id_factura               1\n",
      "dtype: int64\n"
     ]
    }
   ],
   "source": [
    "#Evaluar columans erroneous\n",
    "missing_values = Data.isnull().sum()\n",
    "print(\"Valores nulos por columna:\")\n",
    "print(missing_values)"
   ]
  },
  {
   "cell_type": "code",
   "execution_count": 57,
   "metadata": {},
   "outputs": [],
   "source": [
    "#Borrar columas que tengan valores erroneos\n",
    "\n",
    "Data = Data.dropna()"
   ]
  },
  {
   "cell_type": "code",
   "execution_count": 58,
   "metadata": {},
   "outputs": [
    {
     "name": "stdout",
     "output_type": "stream",
     "text": [
      "Valñores vacions por columna\n",
      "fecha_transaccion      0\n",
      "periodo                0\n",
      "id_transaccion         0\n",
      "id_sucursal            0\n",
      "linea_dispensacion     0\n",
      "id_paciente            0\n",
      "id_pactprdo            0\n",
      "skuagr_2               0\n",
      "cantidad_dispensada    0\n",
      "costcomp_unit          0\n",
      "valorventa_unit_sl     0\n",
      "first_spend            0\n",
      "id_factura             0\n",
      "dtype: int64\n"
     ]
    }
   ],
   "source": [
    "#Evaluar datos vacios\n",
    "datos_vacios = Data.isna().sum().sort_values()\n",
    "print(\"Valñores vacions por columna\")\n",
    "print(datos_vacios)"
   ]
  },
  {
   "cell_type": "code",
   "execution_count": 59,
   "metadata": {},
   "outputs": [],
   "source": [
    "# Convertir la columna de fecha a tipo datetime\n",
    "Data['fecha_transaccion'] = pd.to_datetime(Data['fecha_transaccion'])\n",
    "\n",
    "# Crear nuevas columnas para Año, Mes y Día\n",
    "Data['Año'] = Data['fecha_transaccion'].dt.year\n",
    "Data['Mes'] = Data['fecha_transaccion'].dt.month\n",
    "Data['Día'] = Data['fecha_transaccion'].dt.day"
   ]
  },
  {
   "cell_type": "code",
   "execution_count": 60,
   "metadata": {},
   "outputs": [
    {
     "name": "stdout",
     "output_type": "stream",
     "text": [
      "<class 'pandas.core.frame.DataFrame'>\n",
      "Index: 585120 entries, 0 to 585926\n",
      "Data columns (total 12 columns):\n",
      " #   Column               Non-Null Count   Dtype  \n",
      "---  ------               --------------   -----  \n",
      " 0   id_transaccion       585120 non-null  object \n",
      " 1   id_sucursal          585120 non-null  int64  \n",
      " 2   linea_dispensacion   585120 non-null  object \n",
      " 3   id_paciente          585120 non-null  object \n",
      " 4   skuagr_2             585120 non-null  object \n",
      " 5   cantidad_dispensada  585120 non-null  float64\n",
      " 6   costcomp_unit        585120 non-null  float64\n",
      " 7   valorventa_unit_sl   585120 non-null  float64\n",
      " 8   first_spend          585120 non-null  object \n",
      " 9   id_factura           585120 non-null  object \n",
      " 10  Mes                  585120 non-null  int32  \n",
      " 11  Día                  585120 non-null  int32  \n",
      "dtypes: float64(3), int32(2), int64(1), object(6)\n",
      "memory usage: 53.6+ MB\n"
     ]
    }
   ],
   "source": [
    "# Eliminar columnas innecesarias\n",
    "# ==============================================================================\n",
    "Data = Data.drop(columns=['periodo'])\n",
    "Data = Data.drop(columns=['id_pactprdo'])\n",
    "Data = Data.drop(columns=['id_factura'])\n",
    "Data = Data.drop(columns=['fecha_transaccion'])\n",
    "Data = Data.drop(columns=['Año'])\n",
    "Data.info()"
   ]
  },
  {
   "cell_type": "code",
   "execution_count": 61,
   "metadata": {},
   "outputs": [],
   "source": [
    "# Calcular el día de la semana\n",
    "import locale\n",
    "locale.setlocale(locale.LC_TIME, 'es_ES.UTF-8')\n",
    "Data['Día de la Semana'] = pd.to_datetime({'year': 2024, 'month': Data['Mes'], 'day': Data['Día']}).dt.strftime('%A')\n"
   ]
  },
  {
   "cell_type": "code",
   "execution_count": 70,
   "metadata": {},
   "outputs": [
    {
     "name": "stdout",
     "output_type": "stream",
     "text": [
      "<class 'pandas.core.frame.DataFrame'>\n",
      "Index: 585120 entries, 0 to 585926\n",
      "Data columns (total 12 columns):\n",
      " #   Column               Non-Null Count   Dtype  \n",
      "---  ------               --------------   -----  \n",
      " 0   id_transaccion       585120 non-null  object \n",
      " 1   id_sucursal          585120 non-null  int64  \n",
      " 2   linea_dispensacion   585120 non-null  object \n",
      " 3   id_paciente          585120 non-null  object \n",
      " 4   skuagr_2             585120 non-null  object \n",
      " 5   cantidad_dispensada  585120 non-null  int32  \n",
      " 6   costcomp_unit        585120 non-null  float64\n",
      " 7   valorventa_unit_sl   585120 non-null  float64\n",
      " 8   first_spend          585120 non-null  object \n",
      " 9   Mes                  585120 non-null  int32  \n",
      " 10  Día                  585120 non-null  int32  \n",
      " 11  Día de la Semana     585120 non-null  object \n",
      "dtypes: float64(2), int32(3), int64(1), object(6)\n",
      "memory usage: 51.3+ MB\n"
     ]
    }
   ],
   "source": [
    "Data.info()"
   ]
  },
  {
   "cell_type": "code",
   "execution_count": 69,
   "metadata": {},
   "outputs": [
    {
     "data": {
      "text/html": [
       "<div>\n",
       "<style scoped>\n",
       "    .dataframe tbody tr th:only-of-type {\n",
       "        vertical-align: middle;\n",
       "    }\n",
       "\n",
       "    .dataframe tbody tr th {\n",
       "        vertical-align: top;\n",
       "    }\n",
       "\n",
       "    .dataframe thead th {\n",
       "        text-align: right;\n",
       "    }\n",
       "</style>\n",
       "<table border=\"1\" class=\"dataframe\">\n",
       "  <thead>\n",
       "    <tr style=\"text-align: right;\">\n",
       "      <th></th>\n",
       "      <th>id_transaccion</th>\n",
       "      <th>id_sucursal</th>\n",
       "      <th>linea_dispensacion</th>\n",
       "      <th>id_paciente</th>\n",
       "      <th>skuagr_2</th>\n",
       "      <th>cantidad_dispensada</th>\n",
       "      <th>costcomp_unit</th>\n",
       "      <th>valorventa_unit_sl</th>\n",
       "      <th>first_spend</th>\n",
       "      <th>Mes</th>\n",
       "      <th>Día</th>\n",
       "      <th>Día de la Semana</th>\n",
       "    </tr>\n",
       "  </thead>\n",
       "  <tbody>\n",
       "    <tr>\n",
       "      <th>0</th>\n",
       "      <td>281819_281819_1010</td>\n",
       "      <td>1010</td>\n",
       "      <td>CAPITA</td>\n",
       "      <td>1002023082</td>\n",
       "      <td>61073475G5</td>\n",
       "      <td>60</td>\n",
       "      <td>32.38</td>\n",
       "      <td>40.00</td>\n",
       "      <td>CONCURRENT                                    ...</td>\n",
       "      <td>2</td>\n",
       "      <td>1</td>\n",
       "      <td>jueves</td>\n",
       "    </tr>\n",
       "    <tr>\n",
       "      <th>1</th>\n",
       "      <td>633315_633315_1017</td>\n",
       "      <td>1017</td>\n",
       "      <td>CAPITA</td>\n",
       "      <td>72158665</td>\n",
       "      <td>16136775G5</td>\n",
       "      <td>30</td>\n",
       "      <td>39.47</td>\n",
       "      <td>55.38</td>\n",
       "      <td>CONCURRENT                                    ...</td>\n",
       "      <td>4</td>\n",
       "      <td>26</td>\n",
       "      <td>viernes</td>\n",
       "    </tr>\n",
       "    <tr>\n",
       "      <th>2</th>\n",
       "      <td>286272_286272_1010</td>\n",
       "      <td>1010</td>\n",
       "      <td>CAPITA</td>\n",
       "      <td>23183093</td>\n",
       "      <td>35724945G5</td>\n",
       "      <td>2</td>\n",
       "      <td>4169.44</td>\n",
       "      <td>5340.00</td>\n",
       "      <td>CONCURRENT                                    ...</td>\n",
       "      <td>2</td>\n",
       "      <td>28</td>\n",
       "      <td>miÃ©rcoles</td>\n",
       "    </tr>\n",
       "    <tr>\n",
       "      <th>3</th>\n",
       "      <td>251437_251437_1012</td>\n",
       "      <td>1012</td>\n",
       "      <td>CAPITA</td>\n",
       "      <td>1043586626</td>\n",
       "      <td>13854875G5</td>\n",
       "      <td>6</td>\n",
       "      <td>217.58</td>\n",
       "      <td>335.38</td>\n",
       "      <td>FIRST SPEND                                   ...</td>\n",
       "      <td>1</td>\n",
       "      <td>5</td>\n",
       "      <td>viernes</td>\n",
       "    </tr>\n",
       "    <tr>\n",
       "      <th>4</th>\n",
       "      <td>253375_253375_1012</td>\n",
       "      <td>1012</td>\n",
       "      <td>CAPITA</td>\n",
       "      <td>72073242</td>\n",
       "      <td>13854875G5</td>\n",
       "      <td>4</td>\n",
       "      <td>217.58</td>\n",
       "      <td>335.38</td>\n",
       "      <td>CONCURRENT                                    ...</td>\n",
       "      <td>1</td>\n",
       "      <td>17</td>\n",
       "      <td>miÃ©rcoles</td>\n",
       "    </tr>\n",
       "  </tbody>\n",
       "</table>\n",
       "</div>"
      ],
      "text/plain": [
       "       id_transaccion  id_sucursal linea_dispensacion id_paciente    skuagr_2  \\\n",
       "0  281819_281819_1010         1010             CAPITA  1002023082  61073475G5   \n",
       "1  633315_633315_1017         1017             CAPITA    72158665  16136775G5   \n",
       "2  286272_286272_1010         1010             CAPITA    23183093  35724945G5   \n",
       "3  251437_251437_1012         1012             CAPITA  1043586626  13854875G5   \n",
       "4  253375_253375_1012         1012             CAPITA    72073242  13854875G5   \n",
       "\n",
       "   cantidad_dispensada  costcomp_unit  valorventa_unit_sl  \\\n",
       "0                   60          32.38               40.00   \n",
       "1                   30          39.47               55.38   \n",
       "2                    2        4169.44             5340.00   \n",
       "3                    6         217.58              335.38   \n",
       "4                    4         217.58              335.38   \n",
       "\n",
       "                                         first_spend  Mes  Día  \\\n",
       "0  CONCURRENT                                    ...    2    1   \n",
       "1  CONCURRENT                                    ...    4   26   \n",
       "2  CONCURRENT                                    ...    2   28   \n",
       "3  FIRST SPEND                                   ...    1    5   \n",
       "4  CONCURRENT                                    ...    1   17   \n",
       "\n",
       "  Día de la Semana  \n",
       "0           jueves  \n",
       "1          viernes  \n",
       "2       miÃ©rcoles  \n",
       "3          viernes  \n",
       "4       miÃ©rcoles  "
      ]
     },
     "execution_count": 69,
     "metadata": {},
     "output_type": "execute_result"
    }
   ],
   "source": [
    "Data.head(5)"
   ]
  },
  {
   "cell_type": "code",
   "execution_count": 66,
   "metadata": {},
   "outputs": [],
   "source": [
    "# Convertir la columna de float a int\n",
    "Data['cantidad_dispensada'] = Data['cantidad_dispensada'].astype(int)"
   ]
  },
  {
   "cell_type": "code",
   "execution_count": 68,
   "metadata": {},
   "outputs": [],
   "source": [
    "# Redondear la columna a 2 decimales\n",
    "Data['costcomp_unit'] = Data['costcomp_unit'].round(2)\n",
    "Data['valorventa_unit_sl'] = Data['valorventa_unit_sl'].round(2)"
   ]
  },
  {
   "cell_type": "code",
   "execution_count": 71,
   "metadata": {},
   "outputs": [],
   "source": [
    "Data.to_csv('Data2.csv', index=False)"
   ]
  },
  {
   "cell_type": "code",
   "execution_count": 74,
   "metadata": {},
   "outputs": [
    {
     "data": {
      "image/png": "[encoded data removed]",
      "text/plain": [
       "<Figure size 640x480 with 1 Axes>"
      ]
     },
     "metadata": {},
     "output_type": "display_data"
    }
   ],
   "source": [
    "plt.boxplot(Data['valorventa_unit_sl'], vert=True)\n",
    "plt.title(\"Boxplot de Datos con outliers\")\n",
    "plt.xlabel(\"Valores\")\n",
    "plt.show()"
   ]
  },
  {
   "cell_type": "code",
   "execution_count": null,
   "metadata": {},
   "outputs": [],
   "source": []
  },
  {
   "cell_type": "code",
   "execution_count": null,
   "metadata": {},
   "outputs": [],
   "source": []
  },
  {
   "cell_type": "code",
   "execution_count": null,
   "metadata": {},
   "outputs": [],
   "source": []
  }
 ],
 "metadata": {
  "kernelspec": {
   "display_name": "Python 3",
   "language": "python",
   "name": "python3"
  },
  "language_info": {
   "codemirror_mode": {
    "name": "ipython",
    "version": 3
   },
   "file_extension": ".py",
   "mimetype": "text/x-python",
   "name": "python",
   "nbconvert_exporter": "python",
   "pygments_lexer": "ipython3",
   "version": "3.10.1"
  }
 },
 "nbformat": 4,
 "nbformat_minor": 2
}
