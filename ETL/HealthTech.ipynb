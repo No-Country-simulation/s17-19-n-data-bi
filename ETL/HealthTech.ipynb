{
 "cells": [
  {
   "cell_type": "code",
   "execution_count": 4,
   "metadata": {},
   "outputs": [],
   "source": [
    "from pyspark.sql import SparkSession"
   ]
  },
  {
   "cell_type": "code",
   "execution_count": 3,
   "metadata": {},
   "outputs": [],
   "source": [
    "#from pyspark.sql.functions import col, when, lit, sum, year, month, dayofmonth, dayofweek, dayofyear, weekofyear\n",
    "#from pyspark.sql.types import IntegerType, FloatType, StringType, DateType\n",
    "#from pyspark.sql.window import Window\n",
    "#from pyspark.sql.types import DoubleType, FloatType, StringType\n",
    "#from pyspark.sql.functions import year, countDistinct\n"
   ]
  },
  {
   "cell_type": "code",
   "execution_count": 5,
   "metadata": {},
   "outputs": [
    {
     "name": "stderr",
     "output_type": "stream",
     "text": [
      "24/08/24 22:25:53 WARN Utils: Your hostname, Angel resolves to a loopback address: 127.0.1.1; using 192.168.18.11 instead (on interface wlp3s0)\n",
      "24/08/24 22:25:53 WARN Utils: Set SPARK_LOCAL_IP if you need to bind to another address\n",
      "24/08/24 22:25:54 WARN NativeCodeLoader: Unable to load native-hadoop library for your platform... using builtin-java classes where applicable\n",
      "Setting default log level to \"WARN\".\n",
      "To adjust logging level use sc.setLogLevel(newLevel). For SparkR, use setLogLevel(newLevel).\n"
     ]
    }
   ],
   "source": [
    "# Crear una sesión de Spark\n",
    "spark = SparkSession.builder \\\n",
    "    .appName(\"MiAplicacionSparkPostgreSQL\") \\\n",
    "    .config(\"spark.jars\", \"/opt/spark/jars/postgresql-42.7.3.jar\") \\\n",
    "    .config(\"spark.sql.debug.maxToStringFields\", \"100\") \\\n",
    "    .getOrCreate()\n",
    "    \n",
    "\n",
    "# Configurar la conexión con PostgreSQL\n",
    "jdbc_url = \"jdbc:postgresql://localhost:5432/laboratorio\"\n",
    "connection_properties = {\n",
    "    \"user\": \"myuser\",\n",
    "    \"password\": \"356241789\",\n",
    "    \"driver\": \"org.postgresql.Driver\"\n",
    "}"
   ]
  },
  {
   "cell_type": "code",
   "execution_count": 13,
   "metadata": {},
   "outputs": [
    {
     "name": "stderr",
     "output_type": "stream",
     "text": [
      "                                                                                \r"
     ]
    }
   ],
   "source": [
    "# Leer los archivos CSV en DataFrames de Spark\n",
    "df_usuarios = spark.read.csv('Data/Usuarios.csv', header=True, inferSchema=True)\n",
    "df_productos = spark.read.csv('Data/Productos.csv', header=True, inferSchema=True)\n",
    "df_sucursales = spark.read.csv('Data/Sucursales.csv', header=True, inferSchema=True)\n",
    "df_data = spark.read.csv('Data/Data.csv', header=True, inferSchema=True)\n",
    "\n",
    "df_usuarios =df_usuarios.orderBy(\"nombre_completo\", ascending=True)\n",
    "\n",
    "# Configurar la conexión a PostgreSQL\n",
    "jdbc_url = \"jdbc:postgresql://localhost:5432/laboratorio\"\n",
    "db_properties = {\n",
    "    \"user\": \"myuser\",\n",
    "    \"password\": \"356241789\",  # Reemplaza con tu contraseña\n",
    "    \"driver\": \"org.postgresql.Driver\"\n",
    "}\n",
    "\n",
    "# Cargar los datos en las tablas con mode='append'\n",
    "df_usuarios.write.jdbc(url=jdbc_url, table=\"dim_usuarios\", mode=\"append\", properties=db_properties)\n"
   ]
  },
  {
   "cell_type": "code",
   "execution_count": 14,
   "metadata": {},
   "outputs": [],
   "source": [
    "df_productos.write.jdbc(url=jdbc_url, table=\"dim_productos\", mode=\"append\", properties=db_properties)"
   ]
  },
  {
   "cell_type": "code",
   "execution_count": 15,
   "metadata": {},
   "outputs": [],
   "source": [
    "df_sucursales.write.jdbc(url=jdbc_url, table=\"dim_sucursales\", mode=\"append\", properties=db_properties)\n"
   ]
  },
  {
   "cell_type": "code",
   "execution_count": 25,
   "metadata": {},
   "outputs": [
    {
     "name": "stderr",
     "output_type": "stream",
     "text": [
      "                                                                                \r"
     ]
    }
   ],
   "source": [
    "# Convertir la columna id_transaccion a entero\n",
    "#df_data = df_data.withColumn(\"id_transaccion\", col(\"id_transaccion\").cast(\"int\"))\n",
    "df_data = df_data.withColumn(\"first_spend\", lit(None).cast(\"boolean\"))\n"
   ]
  },
  {
   "cell_type": "code",
   "execution_count": null,
   "metadata": {},
   "outputs": [],
   "source": [
    "data_valid = df_data.join(df_usuarios, on='id_paciente', how='inner')"
   ]
  },
  {
   "cell_type": "code",
   "execution_count": 38,
   "metadata": {},
   "outputs": [
    {
     "name": "stderr",
     "output_type": "stream",
     "text": [
      "                                                                                \r"
     ]
    }
   ],
   "source": [
    "\n",
    "data_valid.write.jdbc(url=jdbc_url, table=\"data\", mode=\"overwrite\", properties=db_properties)"
   ]
  },
  {
   "cell_type": "code",
   "execution_count": 26,
   "metadata": {},
   "outputs": [
    {
     "name": "stderr",
     "output_type": "stream",
     "text": [
      "[Stage 91:>                                                         (0 + 8) / 8]\r"
     ]
    },
    {
     "name": "stdout",
     "output_type": "stream",
     "text": [
      "Cantidad de id_paciente faltantes en dim_usuarios: 6543\n"
     ]
    },
    {
     "name": "stderr",
     "output_type": "stream",
     "text": [
      "                                                                                \r"
     ]
    }
   ],
   "source": [
    "from pyspark.sql.functions import col\n",
    "\n",
    "# Supongamos que tienes dos DataFrames: df_data y df_dim_usuarios\n",
    "\n",
    "# Realiza una operación de left anti join para encontrar los registros en df_data que no están en df_dim_usuarios\n",
    "faltantes = df_data.join(df_usuarios, on='id_paciente', how='left_anti')\n",
    "\n",
    "# Cuenta el número de registros faltantes\n",
    "cantidad_faltantes = faltantes.count()\n",
    "\n",
    "print(f\"Cantidad de id_paciente faltantes en dim_usuarios: {cantidad_faltantes}\")"
   ]
  },
  {
   "cell_type": "code",
   "execution_count": 30,
   "metadata": {},
   "outputs": [
    {
     "name": "stderr",
     "output_type": "stream",
     "text": [
      "[Stage 109:============================>                            (4 + 4) / 8]\r"
     ]
    },
    {
     "name": "stdout",
     "output_type": "stream",
     "text": [
      "+-----------+\n",
      "|id_paciente|\n",
      "+-----------+\n",
      "| 1044640433|\n",
      "| 1043715813|\n",
      "|    5487444|\n",
      "| 1082047266|\n",
      "| 1085008315|\n",
      "|   73226526|\n",
      "|   32689530|\n",
      "| 1140875690|\n",
      "| 1082046030|\n",
      "|    8699759|\n",
      "|    6202054|\n",
      "|   88261075|\n",
      "|   22730682|\n",
      "| 1048221639|\n",
      "| 1143163962|\n",
      "|   22483113|\n",
      "|    1404966|\n",
      "|    3945074|\n",
      "| 1151480952|\n",
      "| 1140891461|\n",
      "+-----------+\n",
      "only showing top 20 rows\n",
      "\n"
     ]
    },
    {
     "name": "stderr",
     "output_type": "stream",
     "text": [
      "                                                                                \r"
     ]
    }
   ],
   "source": [
    "# Realiza un left anti join para encontrar los id_paciente en data que no están en dim_usuarios\n",
    "pacientes_faltantes = df_data.join(df_usuarios, on='id_paciente', how='left_anti')\n",
    "\n",
    "# Selecciona y muestra los id_paciente que faltan\n",
    "pacientes_faltantes.select(\"id_paciente\").distinct().show()\n"
   ]
  },
  {
   "cell_type": "code",
   "execution_count": 34,
   "metadata": {},
   "outputs": [
    {
     "name": "stderr",
     "output_type": "stream",
     "text": [
      "[Stage 120:===================================>                     (5 + 3) / 8]\r"
     ]
    },
    {
     "name": "stdout",
     "output_type": "stream",
     "text": [
      "+-----------+-------------------+\n",
      "|id_paciente|total_transacciones|\n",
      "+-----------+-------------------+\n",
      "| 1044640433|                  1|\n",
      "| 1043715813|                  2|\n",
      "|    5487444|                  3|\n",
      "| 1082047266|                  4|\n",
      "| 1085008315|                  5|\n",
      "|   73226526|                  3|\n",
      "|   32689530|                  1|\n",
      "| 1140875690|                  3|\n",
      "| 1082046030|                  3|\n",
      "|    8699759|                  1|\n",
      "|    6202054|                  1|\n",
      "|   88261075|                  2|\n",
      "|   22730682|                  4|\n",
      "| 1048221639|                  2|\n",
      "| 1143163962|                  3|\n",
      "|   22483113|                  3|\n",
      "|    1404966|                  4|\n",
      "|    3945074|                 11|\n",
      "| 1151480952|                  2|\n",
      "| 1140891461|                  4|\n",
      "+-----------+-------------------+\n",
      "only showing top 20 rows\n",
      "\n"
     ]
    },
    {
     "name": "stderr",
     "output_type": "stream",
     "text": [
      "                                                                                \r"
     ]
    }
   ],
   "source": [
    "from pyspark.sql import functions as F\n",
    "# Realiza el conteo de transacciones para cada id_paciente en pacientes_faltantes\n",
    "conteo_transacciones_por_paciente = pacientes_faltantes.groupBy(\"id_paciente\").agg(F.count(\"id_transaccion\").alias(\"total_transacciones\"))\n",
    "\n",
    "# Muestra los resultados\n",
    "conteo_transacciones_por_paciente.show()"
   ]
  }
 ],
 "metadata": {
  "kernelspec": {
   "display_name": "airflow_env",
   "language": "python",
   "name": "python3"
  },
  "language_info": {
   "codemirror_mode": {
    "name": "ipython",
    "version": 3
   },
   "file_extension": ".py",
   "mimetype": "text/x-python",
   "name": "python",
   "nbconvert_exporter": "python",
   "pygments_lexer": "ipython3",
   "version": "3.12.3"
  }
 },
 "nbformat": 4,
 "nbformat_minor": 2
}
